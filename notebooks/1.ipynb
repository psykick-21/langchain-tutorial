{
 "cells": [
  {
   "cell_type": "markdown",
   "metadata": {},
   "source": [
    "# Creating a basic LLM app"
   ]
  },
  {
   "cell_type": "code",
   "execution_count": 2,
   "metadata": {},
   "outputs": [],
   "source": [
    "# change working directory to the root directory, since the notebook is inside a folder\n",
    "import os\n",
    "os.chdir(os.path.join(os.getcwd(),os.pardir))"
   ]
  },
  {
   "cell_type": "code",
   "execution_count": 8,
   "metadata": {},
   "outputs": [
    {
     "data": {
      "text/plain": [
       "True"
      ]
     },
     "execution_count": 8,
     "metadata": {},
     "output_type": "execute_result"
    }
   ],
   "source": [
    "# read the .env file for environment variables\n",
    "from dotenv import load_dotenv\n",
    "load_dotenv()"
   ]
  },
  {
   "cell_type": "code",
   "execution_count": 7,
   "metadata": {},
   "outputs": [],
   "source": [
    "# enable langsmith tracing\n",
    "# all the runs will be traced in the default project since we have not explicitely defined a project name\n",
    "# langsmith - https://smith.langchain.com/\n",
    "os.environ['LANGCHAIN_TRACING_V2'] = \"true\""
   ]
  },
  {
   "cell_type": "code",
   "execution_count": 9,
   "metadata": {},
   "outputs": [],
   "source": [
    "# initiate llm\n",
    "# we can use llms from multiple sources\n",
    "from langchain_openai import ChatOpenAI\n",
    "llm = ChatOpenAI(model=\"gpt-3.5-turbo-0125\")"
   ]
  },
  {
   "cell_type": "code",
   "execution_count": 10,
   "metadata": {},
   "outputs": [
    {
     "data": {
      "text/plain": [
       "langchain_openai.chat_models.base.ChatOpenAI"
      ]
     },
     "execution_count": 10,
     "metadata": {},
     "output_type": "execute_result"
    }
   ],
   "source": [
    "# check the datatype of llm object\n",
    "type(llm)"
   ]
  },
  {
   "cell_type": "code",
   "execution_count": 11,
   "metadata": {},
   "outputs": [
    {
     "data": {
      "text/plain": [
       "AIMessage(content='Langsmith can help with testing by providing automated testing tools, such as unit testing frameworks, integration testing tools, and end-to-end testing libraries. These tools can help developers quickly and efficiently test their code, identify bugs and issues, and ensure that their software functions as intended. Additionally, Langsmith can provide testing best practices, guidelines, and documentation to help developers effectively test their code and improve the quality of their software.', response_metadata={'token_usage': {'completion_tokens': 84, 'prompt_tokens': 15, 'total_tokens': 99}, 'model_name': 'gpt-3.5-turbo-0125', 'system_fingerprint': None, 'finish_reason': 'stop', 'logprobs': None}, id='run-30834c07-01e4-4695-8cf8-41bb7f9be372-0')"
      ]
     },
     "execution_count": 11,
     "metadata": {},
     "output_type": "execute_result"
    }
   ],
   "source": [
    "# we can directly use this llm object by send a query\n",
    "llm.invoke(\"how can langsmith help with testing?\")"
   ]
  },
  {
   "cell_type": "code",
   "execution_count": 12,
   "metadata": {},
   "outputs": [],
   "source": [
    "# we can improve the response by creating a prompt template\n",
    "from langchain_core.prompts import ChatPromptTemplate\n",
    "prompt = ChatPromptTemplate.from_messages([\n",
    "    (\"system\", \"You are a world class technical documentation writer.\"),\n",
    "    (\"user\", \"{input}\")\n",
    "])\n",
    "\n",
    "# creating an llm chain\n",
    "chain = prompt | llm "
   ]
  },
  {
   "cell_type": "code",
   "execution_count": 13,
   "metadata": {},
   "outputs": [
    {
     "data": {
      "text/plain": [
       "langchain_core.runnables.base.RunnableSequence"
      ]
     },
     "execution_count": 13,
     "metadata": {},
     "output_type": "execute_result"
    }
   ],
   "source": [
    "# checking the data type of the chain\n",
    "type(chain)"
   ]
  },
  {
   "cell_type": "code",
   "execution_count": 14,
   "metadata": {},
   "outputs": [
    {
     "data": {
      "text/plain": [
       "AIMessage(content='Langsmith can help with testing in several ways:\\n\\n1. Automated Testing: Langsmith can be used to generate test cases and test data automatically, which can help speed up the testing process and ensure comprehensive test coverage.\\n\\n2. Test Scenario Generation: Langsmith can create various test scenarios based on the specifications provided, helping testers to identify edge cases and potential vulnerabilities.\\n\\n3. Regression Testing: Langsmith can assist in creating regression test suites to ensure that new changes do not introduce any unintended side effects or bugs in the existing codebase.\\n\\n4. Load Testing: Langsmith can generate realistic user scenarios to simulate high loads on the system, helping to identify performance bottlenecks and scalability issues.\\n\\n5. API Testing: Langsmith can be used to generate API requests and responses for testing API endpoints, ensuring that the API functions correctly under various conditions.\\n\\nOverall, Langsmith can enhance the testing process by providing automated test generation, test scenario creation, regression testing, load testing, and API testing capabilities.', response_metadata={'token_usage': {'completion_tokens': 198, 'prompt_tokens': 28, 'total_tokens': 226}, 'model_name': 'gpt-3.5-turbo-0125', 'system_fingerprint': None, 'finish_reason': 'stop', 'logprobs': None}, id='run-9764cd48-ac55-4fd7-87e7-36c57af0cb25-0')"
      ]
     },
     "execution_count": 14,
     "metadata": {},
     "output_type": "execute_result"
    }
   ],
   "source": [
    "chain.invoke({\"input\": \"how can langsmith help with testing?\"})"
   ]
  },
  {
   "cell_type": "code",
   "execution_count": 15,
   "metadata": {},
   "outputs": [],
   "source": [
    "# the output is not in a human readable format. we can use output parsers to convert this into a string\n",
    "from langchain_core.output_parsers import StrOutputParser\n",
    "output_parser = StrOutputParser()\n",
    "\n",
    "# creating a new chain with output parse\n",
    "chain = prompt | llm | output_parser"
   ]
  },
  {
   "cell_type": "code",
   "execution_count": 16,
   "metadata": {},
   "outputs": [
    {
     "name": "stdout",
     "output_type": "stream",
     "text": [
      "Langsmith is a powerful tool that can greatly assist with testing by providing various features and capabilities that streamline the testing process. Here are some ways in which Langsmith can help with testing:\n",
      "\n",
      "1. **Automated Testing:** Langsmith can be used to automate the testing of code by writing test cases in a structured format. This can help ensure that code changes do not introduce new bugs or regressions.\n",
      "\n",
      "2. **Test Data Generation:** Langsmith can generate test data that can be used to validate the functionality of the software under test. This can help in ensuring comprehensive test coverage.\n",
      "\n",
      "3. **Code Coverage Analysis:** Langsmith can analyze code coverage during testing, helping to identify areas of code that have not been adequately tested. This can assist in improving the effectiveness of testing efforts.\n",
      "\n",
      "4. **Integration Testing:** Langsmith can be integrated with other testing tools and frameworks to perform integration testing of different components of the software. This can help in identifying issues that arise when multiple components interact with each other.\n",
      "\n",
      "5. **Performance Testing:** Langsmith can be used to simulate various load and stress conditions to test the performance of the software. This can help in identifying performance bottlenecks and optimizing the software for better performance.\n",
      "\n",
      "6. **Reporting and Analysis:** Langsmith provides detailed reports and analysis of test results, making it easier to track the progress of testing efforts and identify areas that require further attention.\n",
      "\n",
      "Overall, Langsmith can be a valuable tool for testers to improve the efficiency and effectiveness of their testing processes.\n"
     ]
    }
   ],
   "source": [
    "result = chain.invoke({\"input\": \"how can langsmith help with testing?\"})\n",
    "print(result)"
   ]
  }
 ],
 "metadata": {
  "kernelspec": {
   "display_name": "Python 3",
   "language": "python",
   "name": "python3"
  },
  "language_info": {
   "codemirror_mode": {
    "name": "ipython",
    "version": 3
   },
   "file_extension": ".py",
   "mimetype": "text/x-python",
   "name": "python",
   "nbconvert_exporter": "python",
   "pygments_lexer": "ipython3",
   "version": "3.11.9"
  }
 },
 "nbformat": 4,
 "nbformat_minor": 2
}
